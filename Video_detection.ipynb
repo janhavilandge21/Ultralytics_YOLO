{
 "cells": [
  {
   "cell_type": "code",
   "execution_count": 1,
   "id": "1bcbfea2",
   "metadata": {},
   "outputs": [
    {
     "name": "stdout",
     "output_type": "stream",
     "text": [
      "Ultralytics 8.3.30  Python-3.12.10 torch-2.8.0+cpu CPU (AMD Ryzen 5 5600H with Radeon Graphics)\n",
      "Setup complete  (12 CPUs, 7.3 GB RAM, 291.8/475.9 GB disk)\n"
     ]
    }
   ],
   "source": [
    "%pip install ultralytics\n",
    "import ultralytics\n",
    "ultralytics.checks()\n"
   ]
  },
  {
   "cell_type": "code",
   "execution_count": 5,
   "id": "5e7e3851",
   "metadata": {},
   "outputs": [
    {
     "name": "stdout",
     "output_type": "stream",
     "text": [
      "Video ended or failed, exiting...\n"
     ]
    }
   ],
   "source": [
    "import cv2\n",
    "import random  # ✅ Added import\n",
    "from ultralytics import YOLO\n",
    "\n",
    "# Load class names\n",
    "with open(r\"C:\\Users\\JANHAVI\\Desktop\\CNN\\ultralytics-yolo-main\\utils\\coco.txt\", 'r') as my_file:\n",
    "    class_list = my_file.read().split(\"\\n\")\n",
    "\n",
    "# Generate random colors for each class\n",
    "detection_colors = []\n",
    "for _ in range(len(class_list)):\n",
    "    r = random.randint(0, 255)\n",
    "    g = random.randint(0, 255)\n",
    "    b = random.randint(0, 255)\n",
    "    detection_colors.append((b, g, r))\n",
    "\n",
    "# Load YOLOv8 model\n",
    "model = YOLO(r\"C:\\Users\\JANHAVI\\Desktop\\CNN\\yolov8n.pt\")\n",
    "\n",
    "# Load video\n",
    "cap = cv2.VideoCapture(r\"C:\\Users\\JANHAVI\\Desktop\\CNN\\Car Detection.mp4\")\n",
    "\n",
    "if not cap.isOpened():\n",
    "    print(\"Cannot open video file\")\n",
    "    exit()\n",
    "\n",
    "while True:\n",
    "    ret, frame = cap.read()\n",
    "    if not ret:\n",
    "        print(\"Video ended or failed, exiting...\")\n",
    "        break\n",
    "\n",
    "    # Predict using YOLO model\n",
    "    detect_params = model.predict(source=[frame], conf=0.45, save=False, verbose=False)\n",
    "\n",
    "    # Get predictions\n",
    "    boxes = detect_params[0].boxes\n",
    "\n",
    "    for box in boxes:\n",
    "        clsID = int(box.cls.cpu().numpy()[0])\n",
    "        conf = box.conf.cpu().numpy()[0]\n",
    "        bb = box.xyxy.cpu().numpy()[0]\n",
    "\n",
    "        # Draw bounding box\n",
    "        cv2.rectangle(\n",
    "            frame,\n",
    "            (int(bb[0]), int(bb[1])),\n",
    "            (int(bb[2]), int(bb[3])),\n",
    "            detection_colors[clsID],\n",
    "            2,\n",
    "        )\n",
    "\n",
    "        # Display class name and confidence\n",
    "        label = f\"{class_list[clsID]} {round(conf * 100, 2)}%\"\n",
    "        cv2.putText(\n",
    "            frame, label,\n",
    "            (int(bb[0]), int(bb[1]) - 10),\n",
    "            cv2.FONT_HERSHEY_SIMPLEX,\n",
    "            0.6, (255, 255, 255), 2\n",
    "        )\n",
    "\n",
    "    # Show frame (use cv2.imshow on local system)\n",
    "    cv2.imshow(\"YOLOv8 Object Detection\", frame)\n",
    "\n",
    "    # Press 'q' to quit\n",
    "    if cv2.waitKey(1) & 0xFF == ord('q'):\n",
    "        break\n",
    "\n",
    "cap.release()\n",
    "cv2.destroyAllWindows()\n"
   ]
  },
  {
   "cell_type": "code",
   "execution_count": null,
   "id": "9eac1ac3",
   "metadata": {},
   "outputs": [],
   "source": []
  }
 ],
 "metadata": {
  "kernelspec": {
   "display_name": "Python 3",
   "language": "python",
   "name": "python3"
  },
  "language_info": {
   "codemirror_mode": {
    "name": "ipython",
    "version": 3
   },
   "file_extension": ".py",
   "mimetype": "text/x-python",
   "name": "python",
   "nbconvert_exporter": "python",
   "pygments_lexer": "ipython3",
   "version": "3.12.10"
  }
 },
 "nbformat": 4,
 "nbformat_minor": 5
}
